{
  "nbformat": 4,
  "nbformat_minor": 0,
  "metadata": {
    "colab": {
      "provenance": []
    },
    "kernelspec": {
      "name": "python3",
      "display_name": "Python 3"
    },
    "language_info": {
      "name": "python"
    }
  },
  "cells": [
    {
      "cell_type": "code",
      "source": [
        "!========================================================================Training Model====================================================================="
      ],
      "metadata": {
        "id": "mhXHJqRe9zYQ"
      },
      "execution_count": null,
      "outputs": []
    },
    {
      "cell_type": "markdown",
      "source": [
        "Import library"
      ],
      "metadata": {
        "id": "EyxCJ6vLQHd1"
      }
    },
    {
      "cell_type": "code",
      "source": [
        "import random\n",
        "import json\n",
        "import pickle\n",
        "import numpy as np\n",
        "import tensorflow as tf\n",
        "\n",
        "import nltk\n",
        "nltk.download('punkt')\n",
        "nltk.download('wordnet')\n",
        "from nltk.stem import WordNetLemmatizer"
      ],
      "metadata": {
        "id": "aTgtn9Cf28Fz"
      },
      "execution_count": null,
      "outputs": []
    },
    {
      "cell_type": "markdown",
      "source": [
        "Connect to GG drive"
      ],
      "metadata": {
        "id": "auKnO5daQKmz"
      }
    },
    {
      "cell_type": "code",
      "source": [
        "from google.colab import drive\n",
        "import os\n",
        "drive.mount('/content/drive')"
      ],
      "metadata": {
        "id": "zc64irH69aSn"
      },
      "execution_count": null,
      "outputs": []
    },
    {
      "cell_type": "markdown",
      "source": [
        "Training keras model"
      ],
      "metadata": {
        "id": "nT5JJ_KlQN7o"
      }
    },
    {
      "cell_type": "code",
      "source": [
        "lemmatizer = WordNetLemmatizer()\n",
        "\n",
        "intents = json.loads(open('/content/drive/MyDrive/Colab/intents_eng.json').read())\n",
        "\n",
        "words = []\n",
        "classes = []\n",
        "documents = []\n",
        "ignoreLetters = ['?', '!', '.', ',']\n",
        "\n",
        "for intent in intents['intents']:\n",
        "    for pattern in intent['patterns']:\n",
        "        wordList = nltk.word_tokenize(pattern)\n",
        "        words.extend(wordList)\n",
        "        documents.append((wordList, intent['tag']))\n",
        "        if intent['tag'] not in classes:\n",
        "            classes.append(intent['tag'])\n",
        "\n",
        "words = [lemmatizer.lemmatize(word) for word in words if word not in ignoreLetters]\n",
        "words = sorted(set(words))\n",
        "\n",
        "classes = sorted(set(classes))\n",
        "\n",
        "pickle.dump(words, open('words.pkl', 'wb'))\n",
        "pickle.dump(classes, open('classes.pkl', 'wb'))\n",
        "\n",
        "training = []\n",
        "outputEmpty = [0] * len(classes)\n",
        "\n",
        "for document in documents:\n",
        "    bag = []\n",
        "    wordPatterns = document[0]\n",
        "    wordPatterns = [lemmatizer.lemmatize(word.lower()) for word in wordPatterns]\n",
        "    for word in words:\n",
        "        bag.append(1) if word in wordPatterns else bag.append(0)\n",
        "\n",
        "    outputRow = list(outputEmpty)\n",
        "    outputRow[classes.index(document[1])] = 1\n",
        "    training.append(bag + outputRow)\n",
        "\n",
        "random.shuffle(training)\n",
        "training = np.array(training)\n",
        "\n",
        "trainX = training[:, :len(words)]\n",
        "trainY = training[:, len(words):]\n",
        "\n",
        "model = tf.keras.Sequential()\n",
        "model.add(tf.keras.layers.Dense(128, input_shape=(len(trainX[0]),), activation = 'relu'))\n",
        "model.add(tf.keras.layers.Dropout(0.5))\n",
        "model.add(tf.keras.layers.Dense(64, activation = 'relu'))\n",
        "model.add(tf.keras.layers.Dropout(0.5))\n",
        "model.add(tf.keras.layers.Dense(len(trainY[0]), activation='softmax'))\n",
        "\n",
        "sgd = tf.keras.optimizers.SGD(learning_rate=0.01, momentum=0.9, nesterov=True)\n",
        "model.compile(loss='categorical_crossentropy', optimizer=sgd, metrics=['accuracy'])\n",
        "\n",
        "model.summary()\n",
        "\n",
        "model.fit(trainX, trainY, epochs=200, batch_size=5, verbose=1)\n",
        "model.save('chatbot_model_eng.h5')\n",
        "print('Done')"
      ],
      "metadata": {
        "id": "Q3SxFXfElTnx"
      },
      "execution_count": null,
      "outputs": []
    },
    {
      "cell_type": "markdown",
      "source": [
        "Convert h5 model to tflite model"
      ],
      "metadata": {
        "id": "72iYfqdkQASK"
      }
    },
    {
      "cell_type": "code",
      "source": [
        "# Convert h5 to tflite model\n",
        "model = tf.keras.models.load_model('/content/chatbot_model_eng.h5')\n",
        "converter = tf.lite.TFLiteConverter.from_keras_model(model)\n",
        "tflite_model = converter.convert()\n",
        "open(\"chatbot_model_eng.tflite\", \"wb\").write(tflite_model)"
      ],
      "metadata": {
        "id": "jTwdw72YBLKY"
      },
      "execution_count": null,
      "outputs": []
    },
    {
      "cell_type": "markdown",
      "source": [
        "Using tflite model"
      ],
      "metadata": {
        "id": "sgys-OL_P9yF"
      }
    },
    {
      "cell_type": "code",
      "source": [
        "interpreter = tf.lite.Interpreter(model_path=\"/content/chatbot_model_eng.tflite\")\n",
        "interpreter.allocate_tensors()\n",
        "\n",
        "input_details = interpreter.get_input_details()\n",
        "output_details = interpreter.get_output_details()\n",
        "\n",
        "lemmatizer = WordNetLemmatizer()\n",
        "intents = json.loads(open('/content/drive/MyDrive/Colab/intents_eng.json').read())\n",
        "\n",
        "words = pickle.load(open('words.pkl', 'rb'))\n",
        "classes = pickle.load(open('classes.pkl', 'rb'))\n",
        "\n",
        "def clean_up_sentence(sentence):\n",
        "        sentence_words = nltk.word_tokenize(sentence)\n",
        "        sentence_words = [lemmatizer.lemmatize(word.lower()) for word in sentence_words] #jjj\n",
        "        return sentence_words\n",
        "\n",
        "def bag_of_words(sentence):\n",
        "        sentence_words = clean_up_sentence(sentence)\n",
        "        bag = [0] * len(words)\n",
        "        for w in sentence_words:\n",
        "            for i, word in enumerate(words):\n",
        "                if word == w:\n",
        "                    bag[i] = 1\n",
        "        return np.array(bag)\n",
        "\n",
        "def predict_class(sentence):\n",
        "        bow = bag_of_words(sentence)\n",
        "\n",
        "        # using tflite model\n",
        "        input_shape = input_details[0]['shape']\n",
        "        input_data = np.array(np.array([bow]), dtype=np.float32)\n",
        "        interpreter.set_tensor(input_details[0]['index'], input_data)\n",
        "        interpreter.invoke()\n",
        "        res = interpreter.get_tensor(output_details[0]['index'])[0]\n",
        "\n",
        "        ERROR_THRESHOLD = 0.25\n",
        "        results = [[i, r] for i, r in enumerate(res) if r > ERROR_THRESHOLD]\n",
        "\n",
        "        results.sort(key=lambda x: x[1], reverse=True)\n",
        "        return_list = []\n",
        "        for r in results:\n",
        "            return_list.append({'intent': classes[r[0]], 'probability': str(r[1])})\n",
        "        return return_list\n",
        "\n",
        "def get_response(intents_list, intents_json):\n",
        "        try:\n",
        "            tag = intents_list[0]['intent']\n",
        "            list_of_intents = intents_json['intents']\n",
        "            for i in list_of_intents:\n",
        "                if i['tag']  == tag:\n",
        "                    result = random.choice(i['responses'])\n",
        "                    break\n",
        "        except IndexError:\n",
        "            result = \"I don't understand!\"\n",
        "        return result"
      ],
      "metadata": {
        "id": "TYM6n2S6MoAa"
      },
      "execution_count": 18,
      "outputs": []
    },
    {
      "cell_type": "code",
      "source": [
        "print(\"Chatbot is running!\")\n",
        "\n",
        "# happiness - surprise - sadness - anger - disgust - fear - contempt\n",
        "\n",
        "while True:\n",
        "  message = input(\"\")\n",
        "  intents_list = predict_class(message)\n",
        "  res = get_response(intents_list, intents)\n",
        "  print(res)"
      ],
      "metadata": {
        "colab": {
          "base_uri": "https://localhost:8080/",
          "height": 661
        },
        "id": "RUFBJVMTRl8D",
        "outputId": "d9c9927e-1bd3-4ccc-c941-3795feab83f8"
      },
      "execution_count": 20,
      "outputs": [
        {
          "output_type": "stream",
          "name": "stdout",
          "text": [
            "Chatbot is running!\n",
            "happiness\n",
            "May your happiness continue to radiate and inspire. Let's enjoy some soulful music together!\n",
            "surprise\n",
            "Surprises make life interesting and keep us on our toes. Let's celebrate with some lively music!\n",
            "sadness\n",
            "In times of sadness, music becomes a source of solace and strength. Let it embrace and uplift your spirit.\n",
            "anger\n",
            "Take a deep breath and let the music guide you towards a more peaceful state of mind. We'll work through this anger together.\n",
            "disgust\n",
            "I'm sorry if something has disgusted you. Is there anything specific you'd like to discuss or address? Let's listen to some music to shift the focus.\n",
            "fear\n",
            "It's normal to experience fear, but it shouldn't hold you back. Let's face your fears head-on while music empowers and encourages you.\n",
            "contempt\n",
            "Contempt can be a strong emotion. Let's try to understand the root cause and find a resolution. Music can create a harmonious environment for discussion.\n"
          ]
        },
        {
          "output_type": "error",
          "ename": "KeyboardInterrupt",
          "evalue": "ignored",
          "traceback": [
            "\u001b[0;31m---------------------------------------------------------------------------\u001b[0m",
            "\u001b[0;31mKeyboardInterrupt\u001b[0m                         Traceback (most recent call last)",
            "\u001b[0;32m<ipython-input-20-728458fd5da9>\u001b[0m in \u001b[0;36m<cell line: 5>\u001b[0;34m()\u001b[0m\n\u001b[1;32m      4\u001b[0m \u001b[0;34m\u001b[0m\u001b[0m\n\u001b[1;32m      5\u001b[0m \u001b[0;32mwhile\u001b[0m \u001b[0;32mTrue\u001b[0m\u001b[0;34m:\u001b[0m\u001b[0;34m\u001b[0m\u001b[0;34m\u001b[0m\u001b[0m\n\u001b[0;32m----> 6\u001b[0;31m   \u001b[0mmessage\u001b[0m \u001b[0;34m=\u001b[0m \u001b[0minput\u001b[0m\u001b[0;34m(\u001b[0m\u001b[0;34m\"\"\u001b[0m\u001b[0;34m)\u001b[0m\u001b[0;34m\u001b[0m\u001b[0;34m\u001b[0m\u001b[0m\n\u001b[0m\u001b[1;32m      7\u001b[0m   \u001b[0mintents_list\u001b[0m \u001b[0;34m=\u001b[0m \u001b[0mpredict_class\u001b[0m\u001b[0;34m(\u001b[0m\u001b[0mmessage\u001b[0m\u001b[0;34m)\u001b[0m\u001b[0;34m\u001b[0m\u001b[0;34m\u001b[0m\u001b[0m\n\u001b[1;32m      8\u001b[0m   \u001b[0mres\u001b[0m \u001b[0;34m=\u001b[0m \u001b[0mget_response\u001b[0m\u001b[0;34m(\u001b[0m\u001b[0mintents_list\u001b[0m\u001b[0;34m,\u001b[0m \u001b[0mintents\u001b[0m\u001b[0;34m)\u001b[0m\u001b[0;34m\u001b[0m\u001b[0;34m\u001b[0m\u001b[0m\n",
            "\u001b[0;32m/usr/local/lib/python3.10/dist-packages/ipykernel/kernelbase.py\u001b[0m in \u001b[0;36mraw_input\u001b[0;34m(self, prompt)\u001b[0m\n\u001b[1;32m    849\u001b[0m                 \u001b[0;34m\"raw_input was called, but this frontend does not support input requests.\"\u001b[0m\u001b[0;34m\u001b[0m\u001b[0;34m\u001b[0m\u001b[0m\n\u001b[1;32m    850\u001b[0m             )\n\u001b[0;32m--> 851\u001b[0;31m         return self._input_request(str(prompt),\n\u001b[0m\u001b[1;32m    852\u001b[0m             \u001b[0mself\u001b[0m\u001b[0;34m.\u001b[0m\u001b[0m_parent_ident\u001b[0m\u001b[0;34m,\u001b[0m\u001b[0;34m\u001b[0m\u001b[0;34m\u001b[0m\u001b[0m\n\u001b[1;32m    853\u001b[0m             \u001b[0mself\u001b[0m\u001b[0;34m.\u001b[0m\u001b[0m_parent_header\u001b[0m\u001b[0;34m,\u001b[0m\u001b[0;34m\u001b[0m\u001b[0;34m\u001b[0m\u001b[0m\n",
            "\u001b[0;32m/usr/local/lib/python3.10/dist-packages/ipykernel/kernelbase.py\u001b[0m in \u001b[0;36m_input_request\u001b[0;34m(self, prompt, ident, parent, password)\u001b[0m\n\u001b[1;32m    893\u001b[0m             \u001b[0;32mexcept\u001b[0m \u001b[0mKeyboardInterrupt\u001b[0m\u001b[0;34m:\u001b[0m\u001b[0;34m\u001b[0m\u001b[0;34m\u001b[0m\u001b[0m\n\u001b[1;32m    894\u001b[0m                 \u001b[0;31m# re-raise KeyboardInterrupt, to truncate traceback\u001b[0m\u001b[0;34m\u001b[0m\u001b[0;34m\u001b[0m\u001b[0m\n\u001b[0;32m--> 895\u001b[0;31m                 \u001b[0;32mraise\u001b[0m \u001b[0mKeyboardInterrupt\u001b[0m\u001b[0;34m(\u001b[0m\u001b[0;34m\"Interrupted by user\"\u001b[0m\u001b[0;34m)\u001b[0m \u001b[0;32mfrom\u001b[0m \u001b[0;32mNone\u001b[0m\u001b[0;34m\u001b[0m\u001b[0;34m\u001b[0m\u001b[0m\n\u001b[0m\u001b[1;32m    896\u001b[0m             \u001b[0;32mexcept\u001b[0m \u001b[0mException\u001b[0m \u001b[0;32mas\u001b[0m \u001b[0me\u001b[0m\u001b[0;34m:\u001b[0m\u001b[0;34m\u001b[0m\u001b[0;34m\u001b[0m\u001b[0m\n\u001b[1;32m    897\u001b[0m                 \u001b[0mself\u001b[0m\u001b[0;34m.\u001b[0m\u001b[0mlog\u001b[0m\u001b[0;34m.\u001b[0m\u001b[0mwarning\u001b[0m\u001b[0;34m(\u001b[0m\u001b[0;34m\"Invalid Message:\"\u001b[0m\u001b[0;34m,\u001b[0m \u001b[0mexc_info\u001b[0m\u001b[0;34m=\u001b[0m\u001b[0;32mTrue\u001b[0m\u001b[0;34m)\u001b[0m\u001b[0;34m\u001b[0m\u001b[0;34m\u001b[0m\u001b[0m\n",
            "\u001b[0;31mKeyboardInterrupt\u001b[0m: Interrupted by user"
          ]
        }
      ]
    },
    {
      "cell_type": "markdown",
      "source": [
        "Using h5 model"
      ],
      "metadata": {
        "id": "hORc8D-UP4NO"
      }
    },
    {
      "cell_type": "code",
      "source": [
        "from tensorflow.keras.models import load_model"
      ],
      "metadata": {
        "id": "soLtKsz3pEaU"
      },
      "execution_count": 5,
      "outputs": []
    },
    {
      "cell_type": "code",
      "source": [
        "lemmatizer = WordNetLemmatizer()\n",
        "intents = json.loads(open('/content/drive/MyDrive/Colab/intents_eng.json').read())\n",
        "\n",
        "words = pickle.load(open('words.pkl', 'rb'))\n",
        "classes = pickle.load(open('classes.pkl', 'rb'))\n",
        "\n",
        "model = load_model('/content/chatbot_model_eng.h5')\n",
        "\n",
        "def clean_up_sentence(sentence):\n",
        "        sentence_words = nltk.word_tokenize(sentence)\n",
        "        sentence_words = [lemmatizer.lemmatize(word.lower()) for word in sentence_words] #jjj\n",
        "        return sentence_words\n",
        "\n",
        "def bag_of_words(sentence):\n",
        "        sentence_words = clean_up_sentence(sentence)\n",
        "        bag = [0] * len(words)\n",
        "        for w in sentence_words:\n",
        "            for i, word in enumerate(words):\n",
        "                if word == w:\n",
        "                    bag[i] = 1\n",
        "        return np.array(bag)\n",
        "\n",
        "def predict_class(sentence):\n",
        "        bow = bag_of_words(sentence)\n",
        "        res = model.predict(np.array([bow]))[0]\n",
        "        ERROR_THRESHOLD = 0.25\n",
        "        results = [[i, r] for i, r in enumerate(res) if r > ERROR_THRESHOLD]\n",
        "\n",
        "        results.sort(key=lambda x: x[1], reverse=True)\n",
        "        return_list = []\n",
        "        for r in results:\n",
        "            return_list.append({'intent': classes[r[0]], 'probability': str(r[1])})\n",
        "        return return_list\n",
        "\n",
        "def get_response(intents_list, intents_json):\n",
        "        try:\n",
        "            tag = intents_list[0]['intent']\n",
        "            list_of_intents = intents_json['intents']\n",
        "            for i in list_of_intents:\n",
        "                if i['tag']  == tag:\n",
        "                    result = random.choice(i['responses'])\n",
        "                    break\n",
        "        except IndexError:\n",
        "            result = \"I don't understand!\"\n",
        "        return result"
      ],
      "metadata": {
        "id": "PV862-v1qha8"
      },
      "execution_count": 6,
      "outputs": []
    },
    {
      "cell_type": "code",
      "source": [
        "print(\"Chatbot is running!\")\n",
        "\n",
        "while True:\n",
        "  message = input(\"\")\n",
        "  intents_list = predict_class(message)\n",
        "  res = get_response(intents_list, intents)\n",
        "  print(res)"
      ],
      "metadata": {
        "colab": {
          "base_uri": "https://localhost:8080/",
          "height": 502
        },
        "id": "CkXtRkbCwPa3",
        "outputId": "da0069be-9463-428e-9b79-82924137034e"
      },
      "execution_count": 7,
      "outputs": [
        {
          "output_type": "stream",
          "name": "stdout",
          "text": [
            "Chatbot is running!\n",
            "happinness\n",
            "1/1 [==============================] - 0s 149ms/step\n",
            "I don't understand!\n",
            "sadness\n",
            "1/1 [==============================] - 0s 21ms/step\n",
            "In times of sadness, music becomes a source of solace and strength. Let it embrace and uplift your spirit.\n"
          ]
        },
        {
          "output_type": "error",
          "ename": "KeyboardInterrupt",
          "evalue": "ignored",
          "traceback": [
            "\u001b[0;31m---------------------------------------------------------------------------\u001b[0m",
            "\u001b[0;31mKeyboardInterrupt\u001b[0m                         Traceback (most recent call last)",
            "\u001b[0;32m<ipython-input-7-52237f01347c>\u001b[0m in \u001b[0;36m<cell line: 3>\u001b[0;34m()\u001b[0m\n\u001b[1;32m      2\u001b[0m \u001b[0;34m\u001b[0m\u001b[0m\n\u001b[1;32m      3\u001b[0m \u001b[0;32mwhile\u001b[0m \u001b[0;32mTrue\u001b[0m\u001b[0;34m:\u001b[0m\u001b[0;34m\u001b[0m\u001b[0;34m\u001b[0m\u001b[0m\n\u001b[0;32m----> 4\u001b[0;31m   \u001b[0mmessage\u001b[0m \u001b[0;34m=\u001b[0m \u001b[0minput\u001b[0m\u001b[0;34m(\u001b[0m\u001b[0;34m\"\"\u001b[0m\u001b[0;34m)\u001b[0m\u001b[0;34m\u001b[0m\u001b[0;34m\u001b[0m\u001b[0m\n\u001b[0m\u001b[1;32m      5\u001b[0m   \u001b[0mints\u001b[0m \u001b[0;34m=\u001b[0m \u001b[0mpredict_class\u001b[0m\u001b[0;34m(\u001b[0m\u001b[0mmessage\u001b[0m\u001b[0;34m)\u001b[0m\u001b[0;34m\u001b[0m\u001b[0;34m\u001b[0m\u001b[0m\n\u001b[1;32m      6\u001b[0m   \u001b[0mres\u001b[0m \u001b[0;34m=\u001b[0m \u001b[0mget_response\u001b[0m\u001b[0;34m(\u001b[0m\u001b[0mints\u001b[0m\u001b[0;34m,\u001b[0m \u001b[0mintents\u001b[0m\u001b[0;34m)\u001b[0m\u001b[0;34m\u001b[0m\u001b[0;34m\u001b[0m\u001b[0m\n",
            "\u001b[0;32m/usr/local/lib/python3.10/dist-packages/ipykernel/kernelbase.py\u001b[0m in \u001b[0;36mraw_input\u001b[0;34m(self, prompt)\u001b[0m\n\u001b[1;32m    849\u001b[0m                 \u001b[0;34m\"raw_input was called, but this frontend does not support input requests.\"\u001b[0m\u001b[0;34m\u001b[0m\u001b[0;34m\u001b[0m\u001b[0m\n\u001b[1;32m    850\u001b[0m             )\n\u001b[0;32m--> 851\u001b[0;31m         return self._input_request(str(prompt),\n\u001b[0m\u001b[1;32m    852\u001b[0m             \u001b[0mself\u001b[0m\u001b[0;34m.\u001b[0m\u001b[0m_parent_ident\u001b[0m\u001b[0;34m,\u001b[0m\u001b[0;34m\u001b[0m\u001b[0;34m\u001b[0m\u001b[0m\n\u001b[1;32m    853\u001b[0m             \u001b[0mself\u001b[0m\u001b[0;34m.\u001b[0m\u001b[0m_parent_header\u001b[0m\u001b[0;34m,\u001b[0m\u001b[0;34m\u001b[0m\u001b[0;34m\u001b[0m\u001b[0m\n",
            "\u001b[0;32m/usr/local/lib/python3.10/dist-packages/ipykernel/kernelbase.py\u001b[0m in \u001b[0;36m_input_request\u001b[0;34m(self, prompt, ident, parent, password)\u001b[0m\n\u001b[1;32m    893\u001b[0m             \u001b[0;32mexcept\u001b[0m \u001b[0mKeyboardInterrupt\u001b[0m\u001b[0;34m:\u001b[0m\u001b[0;34m\u001b[0m\u001b[0;34m\u001b[0m\u001b[0m\n\u001b[1;32m    894\u001b[0m                 \u001b[0;31m# re-raise KeyboardInterrupt, to truncate traceback\u001b[0m\u001b[0;34m\u001b[0m\u001b[0;34m\u001b[0m\u001b[0m\n\u001b[0;32m--> 895\u001b[0;31m                 \u001b[0;32mraise\u001b[0m \u001b[0mKeyboardInterrupt\u001b[0m\u001b[0;34m(\u001b[0m\u001b[0;34m\"Interrupted by user\"\u001b[0m\u001b[0;34m)\u001b[0m \u001b[0;32mfrom\u001b[0m \u001b[0;32mNone\u001b[0m\u001b[0;34m\u001b[0m\u001b[0;34m\u001b[0m\u001b[0m\n\u001b[0m\u001b[1;32m    896\u001b[0m             \u001b[0;32mexcept\u001b[0m \u001b[0mException\u001b[0m \u001b[0;32mas\u001b[0m \u001b[0me\u001b[0m\u001b[0;34m:\u001b[0m\u001b[0;34m\u001b[0m\u001b[0;34m\u001b[0m\u001b[0m\n\u001b[1;32m    897\u001b[0m                 \u001b[0mself\u001b[0m\u001b[0;34m.\u001b[0m\u001b[0mlog\u001b[0m\u001b[0;34m.\u001b[0m\u001b[0mwarning\u001b[0m\u001b[0;34m(\u001b[0m\u001b[0;34m\"Invalid Message:\"\u001b[0m\u001b[0;34m,\u001b[0m \u001b[0mexc_info\u001b[0m\u001b[0;34m=\u001b[0m\u001b[0;32mTrue\u001b[0m\u001b[0;34m)\u001b[0m\u001b[0;34m\u001b[0m\u001b[0;34m\u001b[0m\u001b[0m\n",
            "\u001b[0;31mKeyboardInterrupt\u001b[0m: Interrupted by user"
          ]
        }
      ]
    }
  ]
}